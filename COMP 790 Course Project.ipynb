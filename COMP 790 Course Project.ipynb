{
 "cells": [
  {
   "cell_type": "markdown",
   "id": "6edf0327",
   "metadata": {},
   "source": [
    "# Generating a graph from a SBM"
   ]
  },
  {
   "cell_type": "code",
   "execution_count": 1,
   "id": "52a9e59c",
   "metadata": {},
   "outputs": [],
   "source": [
    "import numpy as np\n",
    "import networkx as nx\n",
    "import leidenalg as la\n",
    "import igraph as ig\n",
    "from sklearn.metrics import normalized_mutual_info_score\n",
    "from sklearn.metrics import adjusted_mutual_info_score\n",
    "import matplotlib.pyplot as plt\n",
    "\n",
    "\n",
    "\n",
    "def generate_from_pmf(pmf):\n",
    "    n = len(pmf)\n",
    "    u = np.random.rand()\n",
    "    summ = 0\n",
    "    for i in range(n):\n",
    "        summ += pmf[i]\n",
    "        if u < summ:\n",
    "            return i\n",
    "\n",
    "        \n",
    "def generate_sbm(n, pmf, kernel):\n",
    "    #first: generate the community labels\n",
    "    U = np.random.rand(n)\n",
    "    community = np.zeros(n, dtype=int)\n",
    "    for i in range(n):\n",
    "        community[i] = generate_from_pmf(pmf)\n",
    "    \n",
    "    \n",
    "\n",
    "\n",
    "\n",
    "    edge_list = []\n",
    "\n",
    "    #sample the edges\n",
    "    for i in range(n):\n",
    "        for j in range(i+1, n): #change i+1 to i if you want to allow self-loops\n",
    "            u = np.random.rand()\n",
    "            p_ij = min( kernel[community[i], community[j]]/n, 1 )\n",
    "            if u < p_ij:\n",
    "                edge_list.append([i,j])\n",
    "                \n",
    "    \n",
    "    return edge_list, community\n",
    "\n",
    "\n"
   ]
  },
  {
   "cell_type": "markdown",
   "id": "50814f92",
   "metadata": {},
   "source": [
    "# Finding partitions and evaluating"
   ]
  },
  {
   "cell_type": "code",
   "execution_count": 3,
   "id": "2e1a73c7",
   "metadata": {},
   "outputs": [],
   "source": [
    "def find_partitions(H):\n",
    "    mod_part = la.find_partition(H, la.ModularityVertexPartition)\n",
    "    diff = 1\n",
    "    optimiser = la.Optimiser()\n",
    "    while diff > 0:\n",
    "        diff = optimiser.optimise_partition(mod_part)\n",
    "        \n",
    "        \n",
    "    #profile = optimiser.resolution_profile(H, la.CPMVertexPartition, resolution_range=(0,1))  \n",
    "    #cpm_part = la.find_partition(H, la.CPMVertexPartition, resolution_parameter=0.1)\n",
    "    #diff = 1\n",
    "    #optimiser = la.Optimiser()\n",
    "    #while diff > 0:\n",
    "    #    diff = optimiser.optimise_partition(cpm_part)\n",
    "        \n",
    "    optimiser = la.Optimiser()\n",
    "    profile = optimiser.resolution_profile(H, la.CPMVertexPartition, resolution_range=(1,3))\n",
    "    cpm_part = profile[-1]\n",
    "    \n",
    "    \n",
    "    #profile = optimiser.resolution_profile(G, la.CPMVertexPartition, resolution_range=(0,1)) \n",
    "    \"\"\"\n",
    "    diff = 1\n",
    "    optimiser = la.Optimiser()\n",
    "    rber = la.find_partition(H, la.RBERVertexPartition, resolution_parameter=.5)#0.177)\n",
    "    while diff > 0:\n",
    "        diff = optimiser.optimise_partition(rber)\n",
    "    \"\"\"\n",
    "    \n",
    "    #significance = la.find_partition(H, la.SignificanceVertexPartition)\n",
    "    \"\"\"\n",
    "    rbconfig = la.find_partition(H, la.RBConfigurationVertexPartition, resolution_parameter=.5)#0.5)\n",
    "    diff = 1\n",
    "    optimiser = la.Optimiser()\n",
    "    while diff > 0:\n",
    "        diff = optimiser.optimise_partition(rbconfig)\n",
    "        \n",
    "    \"\"\"\n",
    "        \n",
    "    \n",
    "    optimiser = la.Optimiser()\n",
    "    profile = optimiser.resolution_profile(H, la.RBConfigurationVertexPartition, resolution_range=(0,1))\n",
    "    rbconfig = profile[-1]\n",
    "        \n",
    "        \n",
    "    optimiser = la.Optimiser()\n",
    "    profile = optimiser.resolution_profile(H, la.RBERVertexPartition, resolution_range=(0,1))\n",
    "    rber = profile[-1]\n",
    "    #print(profile[0].summary())\n",
    "\n",
    "\n",
    "    \n",
    "    return mod_part, cpm_part, rber, rbconfig\n",
    "    \n",
    "    \n",
    "def nmi_partitions(labels, partitions):\n",
    "    nmi = []\n",
    "    for partition in partitions:\n",
    "        nmi.append(normalized_mutual_info_score(labels, partition.membership))\n",
    "        \n",
    "    return nmi\n",
    "\n",
    "\n",
    "def ami_partitions(labels, partitions):\n",
    "    ami = []\n",
    "    for partition in partitions:\n",
    "        ami.append(adjusted_mutual_info_score(labels, partition.membership))\n",
    "        \n",
    "    return ami\n",
    "\n",
    "def nmi_confint(G, n, pmf, kernel, num):\n",
    "    mod = []\n",
    "    cpm = []\n",
    "    rber = []\n",
    "    rbconfig = []\n",
    "    \n",
    "    for i in range(num):\n",
    "        edgelist, labels = generate_sbm(n, pmf, kernel)\n",
    "        Gr = ig.Graph(edges=edgelist)\n",
    "        partitions = find_partitions(Gr)\n",
    "        #print([len(partition.membership) for partition in partitions])\n",
    "        #print(len(labels))\n",
    "\n",
    "\n",
    "        mod_part, cpm_part, rber_part, rbconfig_part = nmi_partitions(labels, partitions)\n",
    "        mod.append(mod_part)\n",
    "        cpm.append(cpm_part)\n",
    "        rber.append(rber_part)\n",
    "        rbconfig.append(rbconfig_part)\n",
    "        \n",
    "    \n",
    "    return mod, cpm, rber, rbconfig\n",
    "    \n",
    "    \n",
    "\n",
    "def ami_confint(G, n, pmf, kernel, num):\n",
    "    mod = []\n",
    "    cpm = []\n",
    "    rber = []\n",
    "    rbconfig = []\n",
    "    \n",
    "    for i in range(num):\n",
    "        edgelist, labels = generate_sbm(n, pmf, kernel)\n",
    "        Gr = ig.Graph(edges=edgelist)\n",
    "        partitions = find_partitions(Gr)\n",
    "        mod_part, cpm_part, rber_part, rbconfig_part = ami_partitions(labels, partitions)\n",
    "        mod.append(mod_part)\n",
    "        cpm.append(cpm_part)\n",
    "        rber.append(rber_part)\n",
    "        rbconfig.append(rbconfig_part)\n",
    "        \n",
    "    \n",
    "    return mod, cpm, rber, rbconfig\n",
    "    "
   ]
  },
  {
   "cell_type": "code",
   "execution_count": null,
   "id": "cf188982",
   "metadata": {},
   "outputs": [],
   "source": []
  },
  {
   "cell_type": "code",
   "execution_count": 6,
   "id": "bbe98f1d",
   "metadata": {},
   "outputs": [],
   "source": [
    "kernel = np.array([[5,1,1], [1,4, .5], [1, .5, 3]])*100\n",
    "n = 2000\n",
    "kernel = np.array([[18,1,1], [1,14, .5], [1, .5, 11]])*n/50\n",
    "\n",
    "\n",
    "\n",
    "n = 2000\n",
    "K = 3\n",
    "pmf = [1/2, 1/3, 1/6]\n",
    "\n",
    "edgelist, community_labels = generate_sbm(n, pmf, kernel)\n",
    "H = ig.Graph(edges=edgelist)"
   ]
  },
  {
   "cell_type": "code",
   "execution_count": 4,
   "id": "4b5f866d",
   "metadata": {},
   "outputs": [],
   "source": [
    "#G = nx.from_edgelist(edgelist)\n",
    "#nx.draw(G , pos=nx.kamada_kawai_layout(G), node_size=80, node_color = community_labels)"
   ]
  },
  {
   "cell_type": "code",
   "execution_count": 377,
   "id": "8b19a395",
   "metadata": {},
   "outputs": [
    {
     "name": "stderr",
     "output_type": "stream",
     "text": [
      "120it [00:00, 1182.91it/s, resolution_parameter=0.0107]"
     ]
    },
    {
     "name": "stdout",
     "output_type": "stream",
     "text": [
      "Modularity: 0.7522364750107375\n",
      "CPM: 0.023345358538275626\n",
      "RBER: 0.9233304704920366\n",
      "RBConfig: 0.8773521674970478\n"
     ]
    },
    {
     "name": "stderr",
     "output_type": "stream",
     "text": [
      "\n"
     ]
    }
   ],
   "source": [
    "\n",
    "partitions = find_partitions(H)\n",
    "nmi_mod, nmi_cpm, nmi_rber, nmi_rbconfig = nmi_partitions(community_labels, partitions)\n",
    "print(\"Modularity:\", nmi_mod)\n",
    "print(\"CPM:\", nmi_cpm)\n",
    "\n",
    "print(\"RBER:\", nmi_rber)\n",
    "\n",
    "print(\"RBConfig:\", nmi_rbconfig)\n",
    "\n",
    "\n"
   ]
  },
  {
   "cell_type": "code",
   "execution_count": 419,
   "id": "cb03392e",
   "metadata": {},
   "outputs": [
    {
     "name": "stderr",
     "output_type": "stream",
     "text": [
      "14it [00:00, 729.47it/s, resolution_parameter=0.0811]\n"
     ]
    },
    {
     "data": {
      "text/plain": [
       "0.8446808265554178"
      ]
     },
     "execution_count": 419,
     "metadata": {},
     "output_type": "execute_result"
    }
   ],
   "source": [
    "optimiser = la.Optimiser()\n",
    "profile = optimiser.resolution_profile(H, la.RBERVertexPartition,\n",
    "                                        resolution_range=(0,1))\n",
    "\n",
    "\n",
    "normalized_mutual_info_score(community_labels, profile[-1].membership)"
   ]
  },
  {
   "cell_type": "code",
   "execution_count": 367,
   "id": "e91be790",
   "metadata": {},
   "outputs": [
    {
     "name": "stdout",
     "output_type": "stream",
     "text": [
      "0\n"
     ]
    },
    {
     "name": "stderr",
     "output_type": "stream",
     "text": [
      "/var/folders/5c/2d2kywjn47z1cfrp990k71z80000gn/T/ipykernel_32638/870188478.py:4: DeprecationWarning: elementwise comparison failed; this will raise an error in the future.\n",
      "  print(np.sum(community_labels == np.array(rbconfig.membership)))\n"
     ]
    },
    {
     "data": {
      "text/plain": [
       "'Clustering with 50 elements and 5 clusters'"
      ]
     },
     "execution_count": 367,
     "metadata": {},
     "output_type": "execute_result"
    }
   ],
   "source": [
    "mod_part, cpm_part, rber, rbconfig = partitions\n",
    "\n",
    "#rber = la.find_partition(H, la.RBERVertexPartition, resolution_parameter=0.2)\n",
    "print(np.sum(community_labels == np.array(rbconfig.membership)))\n",
    "\n",
    "rbconfig.summary()"
   ]
  },
  {
   "cell_type": "code",
   "execution_count": 368,
   "id": "b2c65b8b",
   "metadata": {},
   "outputs": [
    {
     "data": {
      "text/plain": [
       "'\\ncolors[np.where(community_labels==0)] = \"blue\"\\ncolors[np.where(community_labels==1)] = \"red\"\\ncolors[np.where(community_labels==2)] = \"green'"
      ]
     },
     "execution_count": 368,
     "metadata": {},
     "output_type": "execute_result"
    }
   ],
   "source": [
    "kernel = np.array([[18,1,1], [1,14, .5], [1, .5, 11]])\n",
    "\n",
    "n = 50\n",
    "K = 3\n",
    "pmf = [1/2, 1/3, 1/6]\n",
    "\n",
    "edgelist, community_labels = generate_sbm(n, pmf, kernel)\n",
    "\n",
    "G = ig.Graph(edges=edgelist)\n",
    "layout = G.layout(\"kamada_kawai\")\n",
    "\n",
    "colors = []\n",
    "\n",
    "\n",
    "for i in range(len(community_labels)):\n",
    "    if community_labels[i] == 0:\n",
    "        colors.append(\"blue\")\n",
    "    elif community_labels[i] == 1:\n",
    "        colors.append(\"red\")\n",
    "    \n",
    "    elif community_labels[i] == 2:\n",
    "        colors.append(\"green\")\n",
    "\n",
    "\n",
    "\n",
    "\"\"\"\n",
    "colors[np.where(community_labels==0)] = \"blue\"\n",
    "colors[np.where(community_labels==1)] = \"red\"\n",
    "colors[np.where(community_labels==2)] = \"green\"\"\"\n",
    "\n",
    "\n",
    "\n",
    "\n",
    "#ig.plot(G, layout=layout, vertex_color=colors)"
   ]
  },
  {
   "cell_type": "markdown",
   "id": "9fde516d",
   "metadata": {},
   "source": [
    "# Resolution parameter sensitivity analysis"
   ]
  },
  {
   "cell_type": "code",
   "execution_count": 9,
   "id": "e1930fa5",
   "metadata": {},
   "outputs": [
    {
     "data": {
      "image/png": "[encoded data removed]",
      "text/plain": [
       "<Figure size 640x480 with 1 Axes>"
      ]
     },
     "metadata": {},
     "output_type": "display_data"
    },
    {
     "data": {
      "image/png": "[encoded data removed]",
      "text/plain": [
       "<Figure size 640x480 with 1 Axes>"
      ]
     },
     "metadata": {},
     "output_type": "display_data"
    }
   ],
   "source": [
    "resolution_params = np.arange(0,1,0.025)\n",
    "nmis = []\n",
    "for res in resolution_params:\n",
    "    #print(res)\n",
    "    part = la.find_partition(H, la.RBERVertexPartition, resolution_parameter = res)\n",
    "    nmi = normalized_mutual_info_score(community_labels, part.membership)\n",
    "    #print(nmi)\n",
    "    nmis.append(nmi)\n",
    "    \n",
    "    \n",
    "\n",
    "x = np.arange(0, len(nmis))\n",
    "\n",
    "rescale = lambda y: (y - np.min(y)) / (np.max(y) - np.min(y))\n",
    "cm = plt.get_cmap(\"tab20b\")\n",
    "\n",
    "#cm(rescale(nmis))\n",
    "plt.bar(resolution_params, nmis, width=0.02, color=cm(5))\n",
    "#plt.title(\"Resolution parameter sensitivity analysis\")\n",
    "plt.xlabel(\"NMI\")\n",
    "plt.ylabel(\"Resolution parameter\")\n",
    "plt.show()\n",
    "\n",
    "\n",
    "\n",
    "plt.plot(resolution_params, nmis)\n",
    "plt.show()"
   ]
  },
  {
   "cell_type": "code",
   "execution_count": 10,
   "id": "68b2ad41",
   "metadata": {},
   "outputs": [
    {
     "data": {
      "text/plain": [
       "0.0"
      ]
     },
     "execution_count": 10,
     "metadata": {},
     "output_type": "execute_result"
    }
   ],
   "source": []
  },
  {
   "cell_type": "markdown",
   "id": "88b308b1",
   "metadata": {},
   "source": [
    "# NMI plot"
   ]
  },
  {
   "cell_type": "code",
   "execution_count": 345,
   "id": "66823a20",
   "metadata": {},
   "outputs": [
    {
     "data": {
      "image/png": "[encoded data removed]",
      "text/plain": [
       "<Figure size 640x480 with 1 Axes>"
      ]
     },
     "metadata": {},
     "output_type": "display_data"
    }
   ],
   "source": [
    "partitions = find_partitions(H)\n",
    "nmis = nmi_partitions(community_labels, partitions)\n",
    "x = np.arange(0,len(nmis), 1)\n",
    "\n",
    "\n",
    "fig, ax = plt.subplots()\n",
    "labs = [\"Modularity\", \"CPM\", \"RBER\", \"RBConfig\"]\n",
    "ax.bar(x, nmis, color=cm(5))\n",
    "ax.set_xticks(x, labs)\n",
    "plt.ylabel(\"NMI\")\n",
    "\n",
    "#ax.bar_label(labs, label_type=\"center\")\n",
    "plt.show()"
   ]
  },
  {
   "cell_type": "code",
   "execution_count": 7,
   "id": "d81a29e5",
   "metadata": {
    "scrolled": false
   },
   "outputs": [
    {
     "name": "stderr",
     "output_type": "stream",
     "text": [
      "0it [00:00, ?it/s]\n",
      "26it [00:03,  6.62it/s, resolution_parameter=0.147]\n",
      "33it [00:05,  6.40it/s, resolution_parameter=0.112] \n",
      "0it [00:00, ?it/s]\n",
      "26it [00:03,  6.61it/s, resolution_parameter=0.146]\n",
      "28it [00:03,  7.24it/s, resolution_parameter=0.114] \n",
      "0it [00:00, ?it/s]\n",
      "23it [00:03,  7.02it/s, resolution_parameter=0.153]\n",
      "26it [00:03,  7.27it/s, resolution_parameter=0.116] \n",
      "0it [00:00, ?it/s]\n",
      "30it [00:04,  6.91it/s, resolution_parameter=0.147]\n",
      "33it [00:04,  7.11it/s, resolution_parameter=0.115] \n",
      "0it [00:00, ?it/s]\n",
      "26it [00:03,  6.98it/s, resolution_parameter=0.153]\n",
      "28it [00:03,  7.12it/s, resolution_parameter=0.116] \n",
      "0it [00:00, ?it/s]\n",
      "24it [00:03,  7.01it/s, resolution_parameter=0.149]\n",
      "30it [00:04,  7.16it/s, resolution_parameter=0.117] \n",
      "0it [00:00, ?it/s]\n",
      "24it [00:03,  7.03it/s, resolution_parameter=0.145]\n",
      "30it [00:04,  7.37it/s, resolution_parameter=0.117] \n",
      "0it [00:00, ?it/s]\n",
      "25it [00:03,  7.07it/s, resolution_parameter=0.151]\n",
      "26it [00:03,  7.17it/s, resolution_parameter=0.116] \n",
      "0it [00:00, ?it/s]\n",
      "25it [00:03,  7.13it/s, resolution_parameter=0.147]\n",
      "30it [00:04,  7.41it/s, resolution_parameter=0.119] \n",
      "0it [00:00, ?it/s]\n",
      "24it [00:03,  6.81it/s, resolution_parameter=0.153]\n",
      "28it [00:03,  7.03it/s, resolution_parameter=0.115] \n",
      "0it [00:00, ?it/s]\n",
      "25it [00:03,  6.61it/s, resolution_parameter=0.15] \n",
      "27it [00:04,  6.24it/s, resolution_parameter=0.117] \n",
      "0it [00:00, ?it/s]\n",
      "24it [00:03,  6.64it/s, resolution_parameter=0.15] \n",
      "33it [00:04,  6.77it/s, resolution_parameter=0.117] \n",
      "0it [00:00, ?it/s]\n",
      "25it [00:03,  6.92it/s, resolution_parameter=0.148]\n",
      "31it [00:04,  7.14it/s, resolution_parameter=0.116] \n",
      "0it [00:00, ?it/s]\n",
      "24it [00:03,  6.66it/s, resolution_parameter=0.152]\n",
      "29it [00:04,  6.93it/s, resolution_parameter=0.112] \n",
      "0it [00:00, ?it/s]\n",
      "25it [00:03,  6.85it/s, resolution_parameter=0.151]\n",
      "30it [00:04,  7.05it/s, resolution_parameter=0.115] \n",
      "0it [00:00, ?it/s]\n",
      "29it [00:04,  6.73it/s, resolution_parameter=0.158]\n",
      "26it [00:03,  7.02it/s, resolution_parameter=0.115] \n",
      "0it [00:00, ?it/s]\n",
      "31it [00:04,  6.84it/s, resolution_parameter=0.151]\n",
      "31it [00:04,  6.82it/s, resolution_parameter=0.117] \n",
      "0it [00:00, ?it/s]\n",
      "28it [00:04,  6.57it/s, resolution_parameter=0.146]\n",
      "25it [00:03,  7.17it/s, resolution_parameter=0.115] \n",
      "0it [00:00, ?it/s]\n",
      "26it [00:04,  6.28it/s, resolution_parameter=0.148]\n",
      "23it [00:03,  7.33it/s, resolution_parameter=0.116] \n",
      "0it [00:00, ?it/s]\n",
      "26it [00:03,  7.35it/s, resolution_parameter=0.147]\n",
      "28it [00:03,  7.68it/s, resolution_parameter=0.12]  \n"
     ]
    },
    {
     "data": {
      "image/png": "[encoded data removed]",
      "text/plain": [
       "<Figure size 640x480 with 1 Axes>"
      ]
     },
     "metadata": {},
     "output_type": "display_data"
    }
   ],
   "source": [
    "num = 20\n",
    "nmis = nmi_confint(H, n, pmf, kernel, num)\n",
    "\n",
    "\n",
    "fig, ax = plt.subplots()\n",
    "labs = [\"Modularity\", \"CPM\", \"RBER\", \"RBConfig\"]\n",
    "labs = [\"Modularity\", \"RBER\", \"RBConfig\"]\n",
    "nmis = [nmis[0], nmis[2], nmis[3]]\n",
    "bplot = ax.boxplot(nmis, patch_artist=True, vert=True, medianprops=dict(color=\"black\")) #meanline=True, showmeans=True, meanprops=dict(color='white'))\n",
    "#ax.set_xticks([1,2,3,4])\n",
    "ax.set_xticks([1,2,3])\n",
    "\n",
    "\n",
    "ax.set_xticklabels(labs)\n",
    "ax.set_ylabel(\"NMI\")\n",
    "\n",
    "colors = ['pink', 'lightblue', 'lightgreen', \"yellow\"]\n",
    "colors = ['pink', 'lightgreen', \"yellow\"]\n",
    "\n",
    "\n",
    "\n",
    "\n",
    "for patch, color in zip(bplot['boxes'], colors):\n",
    "        patch.set_facecolor(color)\n",
    "\n",
    "ax.yaxis.grid(True)\n",
    "\n",
    "plt.show()\n"
   ]
  },
  {
   "cell_type": "code",
   "execution_count": null,
   "id": "4d1c43f1",
   "metadata": {},
   "outputs": [],
   "source": []
  },
  {
   "cell_type": "code",
   "execution_count": 8,
   "id": "7c8eda52",
   "metadata": {},
   "outputs": [
    {
     "name": "stderr",
     "output_type": "stream",
     "text": [
      "0it [00:00, ?it/s]\n",
      "26it [00:03,  6.71it/s, resolution_parameter=0.153]\n",
      "30it [00:04,  6.90it/s, resolution_parameter=0.115] \n",
      "0it [00:00, ?it/s]\n",
      "24it [00:03,  6.88it/s, resolution_parameter=0.152]\n",
      "31it [00:04,  6.97it/s, resolution_parameter=0.114] \n",
      "0it [00:00, ?it/s]\n",
      "25it [00:03,  6.71it/s, resolution_parameter=0.15] \n",
      "34it [00:04,  7.10it/s, resolution_parameter=0.114] \n",
      "0it [00:00, ?it/s]\n",
      "19it [00:02,  6.87it/s, resolution_parameter=0.152]\n",
      "35it [00:04,  7.25it/s, resolution_parameter=0.118] \n",
      "0it [00:00, ?it/s]\n",
      "26it [00:04,  6.45it/s, resolution_parameter=0.153]\n",
      "31it [00:04,  7.23it/s, resolution_parameter=0.118] \n",
      "0it [00:00, ?it/s]\n",
      "24it [00:03,  6.81it/s, resolution_parameter=0.15] \n",
      "38it [00:05,  7.08it/s, resolution_parameter=0.112] \n",
      "0it [00:00, ?it/s]\n",
      "24it [00:03,  6.85it/s, resolution_parameter=0.15] \n",
      "35it [00:04,  7.15it/s, resolution_parameter=0.116] \n",
      "0it [00:00, ?it/s]\n",
      "27it [00:03,  7.09it/s, resolution_parameter=0.154]\n",
      "30it [00:04,  7.33it/s, resolution_parameter=0.118] \n",
      "0it [00:00, ?it/s]\n",
      "25it [00:03,  6.51it/s, resolution_parameter=0.148]\n",
      "29it [00:04,  6.77it/s, resolution_parameter=0.114] \n",
      "0it [00:00, ?it/s]\n",
      "25it [00:03,  6.62it/s, resolution_parameter=0.148]\n",
      "29it [00:03,  7.30it/s, resolution_parameter=0.117] \n",
      "0it [00:00, ?it/s]\n",
      "24it [00:03,  6.74it/s, resolution_parameter=0.151]\n",
      "29it [00:04,  6.97it/s, resolution_parameter=0.118] \n",
      "0it [00:00, ?it/s]\n",
      "26it [00:03,  6.72it/s, resolution_parameter=0.148]\n",
      "29it [00:04,  6.90it/s, resolution_parameter=0.116] \n",
      "0it [00:00, ?it/s]\n",
      "26it [00:03,  6.86it/s, resolution_parameter=0.152]\n",
      "25it [00:03,  7.10it/s, resolution_parameter=0.112] \n",
      "0it [00:00, ?it/s]\n",
      "24it [00:03,  7.06it/s, resolution_parameter=0.148]\n",
      "26it [00:03,  7.31it/s, resolution_parameter=0.117] \n",
      "0it [00:00, ?it/s]\n",
      "25it [00:03,  7.20it/s, resolution_parameter=0.143]\n",
      "40it [00:05,  7.44it/s, resolution_parameter=0.117] \n",
      "0it [00:00, ?it/s]\n",
      "24it [00:03,  7.02it/s, resolution_parameter=0.148]\n",
      "28it [00:03,  7.35it/s, resolution_parameter=0.118] \n",
      "0it [00:00, ?it/s]\n",
      "25it [00:03,  7.03it/s, resolution_parameter=0.148]\n",
      "34it [00:04,  7.31it/s, resolution_parameter=0.12]  \n",
      "0it [00:00, ?it/s]\n",
      "32it [00:04,  6.89it/s, resolution_parameter=0.155]\n",
      "28it [00:03,  7.16it/s, resolution_parameter=0.118] \n",
      "0it [00:00, ?it/s]\n",
      "25it [00:03,  6.94it/s, resolution_parameter=0.151]\n",
      "25it [00:03,  7.09it/s, resolution_parameter=0.115] \n",
      "0it [00:00, ?it/s]\n",
      "25it [00:03,  6.87it/s, resolution_parameter=0.155]\n",
      "27it [00:03,  7.11it/s, resolution_parameter=0.116] \n"
     ]
    },
    {
     "data": {
      "image/png": "[encoded data removed]",
      "text/plain": [
       "<Figure size 640x480 with 1 Axes>"
      ]
     },
     "metadata": {},
     "output_type": "display_data"
    }
   ],
   "source": [
    "num = 20\n",
    "#n=50\n",
    "nmis = ami_confint(H, n, pmf, kernel, num)\n",
    "\n",
    "\n",
    "fig, ax = plt.subplots()\n",
    "labs = [\"Modularity\", \"CPM\", \"RBER\", \"RBConfig\"]\n",
    "bplot = ax.boxplot(nmis, patch_artist=True, vert=True, medianprops=dict(color=\"black\")) #meanline=True, showmeans=True, meanprops=dict(color='white'))\n",
    "ax.set_xticks([1,2,3,4])\n",
    "ax.set_xticklabels(labs)\n",
    "ax.set_ylabel(\"AMI\")\n",
    "\n",
    "colors = ['pink', 'lightblue', 'lightgreen', \"yellow\"]\n",
    "\n",
    "\n",
    "for patch, color in zip(bplot['boxes'], colors):\n",
    "        patch.set_facecolor(color)\n",
    "\n",
    "ax.yaxis.grid(True)\n",
    "\n",
    "plt.show()"
   ]
  },
  {
   "cell_type": "code",
   "execution_count": 293,
   "id": "9300a0fe",
   "metadata": {},
   "outputs": [
    {
     "name": "stderr",
     "output_type": "stream",
     "text": [
      "121it [00:00, 1187.83it/s, resolution_parameter=0.0119]\n"
     ]
    },
    {
     "data": {
      "text/plain": [
       "0.644922285358534"
      ]
     },
     "execution_count": 293,
     "metadata": {},
     "output_type": "execute_result"
    }
   ],
   "source": [
    "profile = optimiser.resolution_profile(H, la.CPMVertexPartition, resolution_range=(0,1))    \n",
    "normalized_mutual_info_score(profile[10].membership, community_labels)\n"
   ]
  },
  {
   "cell_type": "markdown",
   "id": "7a9ec0b2",
   "metadata": {},
   "source": [
    "# Runtime"
   ]
  },
  {
   "cell_type": "code",
   "execution_count": null,
   "id": "0f78c582",
   "metadata": {},
   "outputs": [],
   "source": [
    "mod_part = la.find_partition(H, la.ModularityVertexPartition)\n",
    "diff = 1\n",
    "optimiser = la.Optimiser()\n",
    "while diff > 0:\n",
    "    diff = optimiser.optimise_partition(mod_part)"
   ]
  }
 ],
 "metadata": {
  "kernelspec": {
   "display_name": "Python 3 (ipykernel)",
   "language": "python",
   "name": "python3"
  },
  "language_info": {
   "codemirror_mode": {
    "name": "ipython",
    "version": 3
   },
   "file_extension": ".py",
   "mimetype": "text/x-python",
   "name": "python",
   "nbconvert_exporter": "python",
   "pygments_lexer": "ipython3",
   "version": "3.9.13"
  }
 },
 "nbformat": 4,
 "nbformat_minor": 5
}
